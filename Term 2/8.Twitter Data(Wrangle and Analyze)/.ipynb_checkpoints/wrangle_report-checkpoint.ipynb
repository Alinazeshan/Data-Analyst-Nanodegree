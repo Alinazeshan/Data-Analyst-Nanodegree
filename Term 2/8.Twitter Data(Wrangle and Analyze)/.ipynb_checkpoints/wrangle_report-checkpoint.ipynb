{
 "cells": [
  {
   "cell_type": "raw",
   "metadata": {},
   "source": [
    "I enjoyed Data Wrangling in this project overall. It showed me new ways to see a Data from different perspectives.\n",
    " Starting from the gathering step. I gathered it from three different sources I-e one simply by downloading the file stored beforehand. Secondly file was downloaded from the internet, programmatically.\n",
    "  third and last twitter API was used to access additional Data.\n",
    "   In the Gathering of the data twitter API took time in days. two days for accessing the 'key' and 'token'. we exchanged at least three emails describing and convincing them that why I need to have the API. rest was easy to have an APP.\n",
    "    but another hurdle was to assess the API data. it took almost an hour to load the data.\n",
    "    first time it throws lots of errors and saved only 600 rows.\n",
    "     After some effort I was able to download the reasonable amount of Data.\n",
    " Data was explored. A little background knowledge was gained. I learnt  that dogs were always given marks above 10\n",
    " \"They're good dogs Brent.\"\n",
    " (loved that article)\n",
    "I was interested in getting the know-how of the ratings. when I explored I realized that sometimes numerators are less than 10. and that was due to the fact that they were not even dog pictures. great!\n",
    "Next few ratings were much higher like 270, 130, 150... When I opened their original link, I learnt that there are many dogs, that why ratings are so out of proportions. that worked too.\n",
    " so, I am convinced that ratings are clean and fine.\n",
    "  name columns do contain funny names, inconsistent Data.\n",
    "   like \"a\",\"an\",\"the\" as the name of the dog. this has to be cleaned.\n",
    "   During Assessing, (visually and Programmatically), I kept the basic data cleaning principles in mind\n",
    "   . Missing data\n",
    "   . inconsistent Data\n",
    "   . In accurate Data\n",
    "   . Invalid Data\n",
    "After Visual assesment in excel and pandas, they were assessed programmatically in the Pandas.\n",
    "Then come the cleaning part. Define, Code and test steps were followed.\n",
    "Datatypes were changed accordingly like datetime of timestamp columns\n",
    " and the ID columns were changed to the string datatype.\n",
    " Final cleaned data was saved finally.\n"
   ]
  }
 ],
 "metadata": {
  "kernelspec": {
   "display_name": "Python [default]",
   "language": "python",
   "name": "python3"
  },
  "language_info": {
   "codemirror_mode": {
    "name": "ipython",
    "version": 3
   },
   "file_extension": ".py",
   "mimetype": "text/x-python",
   "name": "python",
   "nbconvert_exporter": "python",
   "pygments_lexer": "ipython3",
   "version": "3.6.5"
  }
 },
 "nbformat": 4,
 "nbformat_minor": 2
}
